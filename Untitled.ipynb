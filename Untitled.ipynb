{
  "nbformat": 4,
  "nbformat_minor": 0,
  "metadata": {
    "colab": {
      "provenance": []
    },
    "kernelspec": {
      "name": "python3",
      "display_name": "Python 3"
    },
    "language_info": {
      "name": "python"
    }
  },
  "cells": [
    {
      "cell_type": "markdown",
      "source": [
        "What are keywords in python? Using the keyword library, print all the python keywords."
      ],
      "metadata": {
        "id": "d-CHPLqdFiGB"
      }
    },
    {
      "cell_type": "code",
      "execution_count": 5,
      "metadata": {
        "colab": {
          "base_uri": "https://localhost:8080/"
        },
        "id": "ih31ZHwZ9XXH",
        "outputId": "918d5517-b3d4-4cae-f13d-793f20751708"
      },
      "outputs": [
        {
          "output_type": "stream",
          "name": "stdout",
          "text": [
            "\n",
            "Here is a list of the Python keywords.  Enter any keyword to get more help.\n",
            "\n",
            "False               class               from                or\n",
            "None                continue            global              pass\n",
            "True                def                 if                  raise\n",
            "and                 del                 import              return\n",
            "as                  elif                in                  try\n",
            "assert              else                is                  while\n",
            "async               except              lambda              with\n",
            "await               finally             nonlocal            yield\n",
            "break               for                 not                 \n",
            "\n"
          ]
        }
      ],
      "source": [
        ">>> help(\"keywords\")\n"
      ]
    },
    {
      "cell_type": "code",
      "source": [
        "# Python program to print the list of all keywords\n",
        "\n",
        "# importing the module\n",
        "import keyword\n",
        "\n",
        "# printing the keywords\n",
        "print(\"Python keywords are...\")\n",
        "print(keyword.kwlist)"
      ],
      "metadata": {
        "colab": {
          "base_uri": "https://localhost:8080/"
        },
        "id": "-xHd-Px_FrE8",
        "outputId": "e7455467-2a71-486f-da30-e68c37f45215"
      },
      "execution_count": null,
      "outputs": [
        {
          "output_type": "stream",
          "name": "stdout",
          "text": [
            "Python keywords are...\n",
            "['False', 'None', 'True', 'and', 'as', 'assert', 'async', 'await', 'break', 'class', 'continue', 'def', 'del', 'elif', 'else', 'except', 'finally', 'for', 'from', 'global', 'if', 'import', 'in', 'is', 'lambda', 'nonlocal', 'not', 'or', 'pass', 'raise', 'return', 'try', 'while', 'with', 'yield']\n"
          ]
        }
      ]
    },
    {
      "cell_type": "markdown",
      "source": [
        "2. What are the rules to create variables in python?"
      ],
      "metadata": {
        "id": "SovZP9RqGACR"
      }
    },
    {
      "cell_type": "markdown",
      "source": [
        "A variable name must start with a letter or the underscore character.\n",
        "\n",
        "A variable name cannot start with a number.\n",
        "\n",
        "A variable name can only contain alpha-numeric characters and underscores (A-z, 0-9, and _ )\n",
        "\n",
        "Variable names are case-sensitive (age, Age and AGE are three different variables)\n"
      ],
      "metadata": {
        "id": "02RMahNiGNRl"
      }
    },
    {
      "cell_type": "code",
      "source": [
        "\n",
        "# An integer assignment\n",
        "age = 45\n",
        " \n",
        "# A floating point\n",
        "salary = 1456.8\n",
        " \n",
        "# A string\n",
        "name = \"John\"\n",
        " \n",
        "print(age)\n",
        "print(salary)\n",
        "print(name)\n"
      ],
      "metadata": {
        "colab": {
          "base_uri": "https://localhost:8080/"
        },
        "id": "fZCpQ4FkFrKQ",
        "outputId": "e22e0eb6-49c5-455e-fcc9-8884294478d1"
      },
      "execution_count": null,
      "outputs": [
        {
          "output_type": "stream",
          "name": "stdout",
          "text": [
            "45\n",
            "1456.8\n",
            "John\n"
          ]
        }
      ]
    },
    {
      "cell_type": "markdown",
      "source": [
        "3. What are the standards and conventions followed for the nomenclature of variables in\n",
        "python to improve code readability and maintainability?"
      ],
      "metadata": {
        "id": "qn1S8LxhGsJP"
      }
    },
    {
      "cell_type": "markdown",
      "source": [
        "ANS; n Python, variable and function names should be lowercase, with words separated by underscores"
      ],
      "metadata": {
        "id": "DNlCbYToHvRp"
      }
    },
    {
      "cell_type": "code",
      "source": [
        "my_variable = \"Hello, sir!\"\n",
        "\n",
        "def my_function():\n",
        "    print(\"This is my function.\")"
      ],
      "metadata": {
        "id": "nRGML5xPH5vZ"
      },
      "execution_count": null,
      "outputs": []
    },
    {
      "cell_type": "markdown",
      "source": [
        "4. What will happen if a keyword is used as a variable name?"
      ],
      "metadata": {
        "id": "kZ46LTEkJADR"
      }
    },
    {
      "cell_type": "code",
      "source": [
        "76trombones = \"big parade\"\n",
        "more$ = 1000000\n",
        "class = \"Computer Science 101\"\n",
        "print(76trombones)\n",
        "print(more$)\n",
        "print(class)"
      ],
      "metadata": {
        "colab": {
          "base_uri": "https://localhost:8080/",
          "height": 130
        },
        "id": "R9vBZeajFrO0",
        "outputId": "f03bcf78-7c0b-4147-f240-6651bb85eaa3"
      },
      "execution_count": 4,
      "outputs": [
        {
          "output_type": "error",
          "ename": "SyntaxError",
          "evalue": "ignored",
          "traceback": [
            "\u001b[0;36m  File \u001b[0;32m\"<ipython-input-4-1bbba39b9b1d>\"\u001b[0;36m, line \u001b[0;32m2\u001b[0m\n\u001b[0;31m    more$ = 1000000\u001b[0m\n\u001b[0m        ^\u001b[0m\n\u001b[0;31mSyntaxError\u001b[0m\u001b[0;31m:\u001b[0m invalid syntax\n"
          ]
        }
      ]
    },
    {
      "cell_type": "code",
      "source": [
        "_76trombones = \"big parade\"\n",
        "more = 1000000\n",
        "Class = \"computer Science 101\"\n",
        "print(_76trombones)\n",
        "print(more)\n",
        "print(Class)"
      ],
      "metadata": {
        "colab": {
          "base_uri": "https://localhost:8080/"
        },
        "id": "RcijXl-TFrSc",
        "outputId": "c586dc5d-9b8a-4f8e-815d-c67a20e2b2bd"
      },
      "execution_count": null,
      "outputs": [
        {
          "output_type": "stream",
          "name": "stdout",
          "text": [
            "big parade\n",
            "1000000\n",
            "computer Science 101\n"
          ]
        }
      ]
    },
    {
      "cell_type": "markdown",
      "source": [
        "Q.5. For what purpose def keyword is used?"
      ],
      "metadata": {
        "id": "ZsufVHp8KySX"
      }
    },
    {
      "cell_type": "markdown",
      "source": [
        "ANS:- The def keyword is used to create, (or define) a function."
      ],
      "metadata": {
        "id": "hIuMUrK0LcCk"
      }
    },
    {
      "cell_type": "code",
      "source": [
        "def my_function():\n",
        "  print(\"Hello from a function\")\n",
        "my_function()"
      ],
      "metadata": {
        "colab": {
          "base_uri": "https://localhost:8080/"
        },
        "id": "zlpIf1CMFrVa",
        "outputId": "873aa8b8-4ee3-4dff-87a8-7aa5954fe408"
      },
      "execution_count": null,
      "outputs": [
        {
          "output_type": "stream",
          "name": "stdout",
          "text": [
            "Hello from a function\n"
          ]
        }
      ]
    },
    {
      "cell_type": "markdown",
      "source": [
        "Q.6. What is the operation of this special character ‘\\’?"
      ],
      "metadata": {
        "id": "GAcYddQiLldh"
      }
    },
    {
      "cell_type": "markdown",
      "source": [
        "ANS:- A special character is one that is not considered a number or letter. Symbols, accent marks, and punctuation marks are considered special characters.\n",
        "\n",
        "Backslash   \tSeparates locations in a file or network path  \t\\"
      ],
      "metadata": {
        "id": "Yp5zIo3zMJyT"
      }
    },
    {
      "cell_type": "markdown",
      "source": [
        "Q.7. Give an example of the following conditions:\n",
        "\n",
        "(i) Homogeneous list\n",
        "\n",
        "(ii) Heterogeneous set\n",
        "\n",
        "(iii) Homogeneous tuple"
      ],
      "metadata": {
        "id": "K-6gsVcmNl8o"
      }
    },
    {
      "cell_type": "code",
      "source": [
        "# Creating an empty Tuple\n",
        "Tuple1 = ()\n",
        "print(\"Initial empty Tuple: \")\n",
        "print(Tuple1)\n",
        " \n",
        "# Creating a Tuple\n",
        "# with the use of string\n",
        "Tuple1 = ('Geeks', 'For')\n",
        "print(\"\\nTuple with the use of String: \")\n",
        "print(Tuple1)\n",
        " \n",
        "# Creating a Tuple with\n",
        "# the use of list\n",
        "list1 = [1, 2, 4, 5, 6]\n",
        "print(\"\\nTuple using List: \")\n",
        "print(tuple(list1))\n",
        " \n",
        "# Creating a Tuple\n",
        "# with the use of built-in function\n",
        "Tuple1 = tuple('Geeks')\n",
        "print(\"\\nTuple with the use of function: \")\n",
        "print(Tuple1)"
      ],
      "metadata": {
        "colab": {
          "base_uri": "https://localhost:8080/"
        },
        "id": "C1YDThUrPHpc",
        "outputId": "5fbd49a5-855f-4d64-ce72-9f6c61bfd0d4"
      },
      "execution_count": null,
      "outputs": [
        {
          "output_type": "stream",
          "name": "stdout",
          "text": [
            "Initial empty Tuple: \n",
            "()\n",
            "\n",
            "Tuple with the use of String: \n",
            "('Geeks', 'For')\n",
            "\n",
            "Tuple using List: \n",
            "(1, 2, 4, 5, 6)\n",
            "\n",
            "Tuple with the use of function: \n",
            "('G', 'e', 'e', 'k', 's')\n"
          ]
        }
      ]
    },
    {
      "cell_type": "markdown",
      "source": [
        "Q.8. Explain the mutable and immutable data types with proper explanation & examples."
      ],
      "metadata": {
        "id": "pejqTR1GPp06"
      }
    },
    {
      "cell_type": "code",
      "source": [
        "# example to demonstrate list is a mutable data type in python\n",
        "\n",
        "# our current list\n",
        "my_list = [1,2,3,4,5]\n",
        "\n",
        "# using append operation in our list\n",
        "my_list.append(10)\n",
        "# printing our list after the operation\n",
        "print(\"List after appending a value = \",my_list)\n",
        "\n",
        "# using extend operation in our list\n",
        "my_list.extend([6,11,23])\n",
        "# printing our list after the operation\n",
        "print(\"List after extending a list = \",my_list)\n",
        "\n",
        "# after removing a value from our list\n",
        "my_list.remove(3)\n",
        "# printing our list after the operation\n",
        "print(\"List after removing a value = \",my_list)"
      ],
      "metadata": {
        "colab": {
          "base_uri": "https://localhost:8080/"
        },
        "id": "GE1mHF8TPHtB",
        "outputId": "d2d9859f-0561-4005-fe34-28204908a5e5"
      },
      "execution_count": null,
      "outputs": [
        {
          "output_type": "stream",
          "name": "stdout",
          "text": [
            "List after appending a value =  [1, 2, 3, 4, 5, 10]\n",
            "List after extending a list =  [1, 2, 3, 4, 5, 10, 6, 11, 23]\n",
            "List after removing a value =  [1, 2, 4, 5, 10, 6, 11, 23]\n"
          ]
        }
      ]
    },
    {
      "cell_type": "markdown",
      "source": [],
      "metadata": {
        "id": "CiMXGKXLPvhf"
      }
    },
    {
      "cell_type": "code",
      "source": [
        "#include <stdio.h>\n",
        "\n",
        "void main()\n",
        "{\n",
        "   int i,j,n;\n",
        "   printf(\"Input number of rows for this pattern :\");\n",
        "   scanf(\"%d\",&n);\n",
        "   for(i=0;i<n;i++)\n",
        "   {\n",
        "     for(j=1;j<=n-i;j++)\n",
        "     printf(\" \");\n",
        "     for(j=1;j<=2*i-1;j++)\n",
        "       printf(\"*\");\n",
        "     printf(\"\\n\");\n",
        "   }\n",
        "\n",
        "} "
      ],
      "metadata": {
        "colab": {
          "base_uri": "https://localhost:8080/",
          "height": 130
        },
        "id": "dts360LxPH2o",
        "outputId": "eade1e57-d9b3-46e5-c170-edac766ba785"
      },
      "execution_count": 1,
      "outputs": [
        {
          "output_type": "error",
          "ename": "SyntaxError",
          "evalue": "ignored",
          "traceback": [
            "\u001b[0;36m  File \u001b[0;32m\"<ipython-input-1-ea2508cb9caa>\"\u001b[0;36m, line \u001b[0;32m3\u001b[0m\n\u001b[0;31m    void main()\u001b[0m\n\u001b[0m         ^\u001b[0m\n\u001b[0;31mSyntaxError\u001b[0m\u001b[0;31m:\u001b[0m invalid syntax\n"
          ]
        }
      ]
    },
    {
      "cell_type": "markdown",
      "source": [
        "10. Write a code to create the given structure using while loop.\n",
        "\n",
        "|||||||||\n",
        "\n",
        "|||||||\n",
        "\n",
        "|||||\n",
        "\n",
        "|||\n",
        "\n",
        "|"
      ],
      "metadata": {
        "id": "QBDqCUybTCi8"
      }
    },
    {
      "cell_type": "code",
      "source": [
        "# checks if list still\n",
        "# contains any element\n",
        "a = [1, 2, 3, 4]\n",
        " \n",
        "while a:\n",
        "    print(a.pop())"
      ],
      "metadata": {
        "colab": {
          "base_uri": "https://localhost:8080/"
        },
        "id": "G14bI-R1TBs7",
        "outputId": "7dfc6ccf-f586-4d82-fd41-af63e4293566"
      },
      "execution_count": null,
      "outputs": [
        {
          "output_type": "stream",
          "name": "stdout",
          "text": [
            "4\n",
            "3\n",
            "2\n",
            "1\n"
          ]
        }
      ]
    }
  ]
}